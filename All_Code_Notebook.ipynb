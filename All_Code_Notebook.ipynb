{
 "cells": [
  {
   "cell_type": "code",
   "execution_count": 2,
   "metadata": {},
   "outputs": [],
   "source": [
    "import scipy\n",
    "import numpy as np \n",
    "import pandas as pd \n",
    "import scipy.interpolate\n",
    "from scipy.stats import mode\n",
    "import matplotlib.pyplot as plt\n",
    "from pycaret.classification import * \n",
    "from sklearn.utils.fixes import loguniform\n",
    "from scipy.ndimage.interpolation import shift\n",
    "\n",
    "from sklearn.svm import SVC\n",
    "from sklearn.ensemble import RandomForestClassifier\n",
    "from sklearn.neighbors import KNeighborsClassifier\n",
    "from sklearn.model_selection import train_test_split\n",
    "from sklearn.metrics import accuracy_score, f1_score\n",
    "from sklearn.model_selection import GridSearchCV, RandomizedSearchCV"
   ]
  },
  {
   "cell_type": "code",
   "execution_count": null,
   "metadata": {},
   "outputs": [],
   "source": [
    "# Reading training data and saving it as .npy file for future use ( takes a bit too long)\n",
    "path = r'iitmee4708\\Training Dataset\\character_' # change to the path where you stored the data\n",
    "D = []\n",
    "for l in range(10):\n",
    "    fp = path + str(l) + '\\\\'\n",
    "    ds = []\n",
    "    for i in range(1, 1001):\n",
    "        d = pd.read_csv(fp + str(i) + '.csv', header = None)\n",
    "        ds.append(np.array(d))\n",
    "    D.append(ds) \n",
    "\n",
    "data = np.array(D)\n",
    "np.save('data', data) "
   ]
  },
  {
   "cell_type": "code",
   "execution_count": null,
   "metadata": {},
   "outputs": [],
   "source": [
    "# Reading test data in proper format and saving it in feather format for future use\n",
    "\n",
    "test = pd.read_csv(r'iitmee4708\\public_test.csv', header = None)\n",
    "X_test = pd.DataFrame([test.iloc[:,i].to_numpy().reshape(28,28).T.flatten() for i in range(test.shape[1])])\n",
    "X_test.columns = X_test.columns.astype(str)\n",
    "X_test.to_feather('test_new')"
   ]
  },
  {
   "cell_type": "markdown",
   "metadata": {},
   "source": [
    "### Data Cleaning "
   ]
  },
  {
   "cell_type": "code",
   "execution_count": 2,
   "metadata": {},
   "outputs": [],
   "source": [
    "data = np.load('data.npy') # find original code"
   ]
  },
  {
   "cell_type": "code",
   "execution_count": 3,
   "metadata": {},
   "outputs": [],
   "source": [
    "def clean_image(d):\n",
    "    \"\"\"\n",
    "    strategy = nearest neighbor interpolation\n",
    "    input    = noisy image numpy matrix\n",
    "    output   = imputed image numpy matrix\n",
    "    \"\"\"\n",
    "    mask = ~(np.isnan(d))\n",
    "    xx, yy = np.meshgrid(np.arange(d.shape[1]), np.arange(d.shape[0]))\n",
    "    xym = np.vstack( (np.ravel(xx[mask]), np.ravel(yy[mask])) ).T\n",
    "\n",
    "    data0 = np.ravel(d[mask]) \n",
    "    interp0 = scipy.interpolate.NearestNDInterpolator(xym, data0 ) \n",
    "    result = interp0(np.ravel(xx), np.ravel(yy)).reshape( xx.shape )\n",
    "    return result"
   ]
  },
  {
   "cell_type": "code",
   "execution_count": 4,
   "metadata": {},
   "outputs": [],
   "source": [
    "#cleaning the data\n",
    "m, n = data.shape[0], data.shape[1]\n",
    "\n",
    "for i in range(m):\n",
    "    for j in range(n):\n",
    "        image = data[i][j]\n",
    "        clean = clean_image(image)\n",
    "        data[i][j] = clean"
   ]
  },
  {
   "cell_type": "code",
   "execution_count": null,
   "metadata": {},
   "outputs": [],
   "source": [
    "# saving the cleaned file in .npy and feather format for future use\n",
    "np.save('clean_data', data)\n",
    "df_train = pd.DataFrame(data)\n",
    "labels = []\n",
    "for i in range(10):\n",
    "    labels.extend([i]*1000)\n",
    "df_train['labels'] = labels\n",
    "df_train.columns = df_train.columns.astype(str)\n",
    "df_train.to_feather('cleaned_train')"
   ]
  },
  {
   "cell_type": "markdown",
   "metadata": {},
   "source": [
    "### Data Splitting"
   ]
  },
  {
   "cell_type": "code",
   "execution_count": 3,
   "metadata": {},
   "outputs": [],
   "source": [
    "trainData = pd.read_feather('cleaned_train') # put in savefiles folder\n",
    "trainData = trainData.sample(frac = 1).reset_index(drop = True)\n",
    "test = (pd.read_feather('test_new')) / 255  # min max scaling for test"
   ]
  },
  {
   "cell_type": "code",
   "execution_count": 4,
   "metadata": {},
   "outputs": [],
   "source": [
    "x = (trainData.drop('labels', axis = 1)) / 255 # min max scaling\n",
    "y = trainData['labels'].copy()"
   ]
  },
  {
   "cell_type": "code",
   "execution_count": 5,
   "metadata": {},
   "outputs": [],
   "source": [
    "X_train, X_val, y_train, y_val = train_test_split(x, y, test_size = 0.2, random_state = 42)"
   ]
  },
  {
   "source": [
    "### Algorithm shortlisting"
   ],
   "cell_type": "markdown",
   "metadata": {}
  },
  {
   "source": [
    "# pycaret helps shortlist classification models\n",
    "# then choose well performing allowed models\n",
    "exp_clf = setup(trainData, target = 'labels')\n",
    "best = compare_models() # will take a lot of time"
   ],
   "cell_type": "code",
   "metadata": {},
   "execution_count": null,
   "outputs": []
  },
  {
   "cell_type": "code",
   "execution_count": 4,
   "metadata": {},
   "outputs": [
    {
     "output_type": "execute_result",
     "data": {
      "image/png": "[encoded data removed]",
      "text/plain": [
       "<IPython.core.display.Image object>"
      ]
     },
     "metadata": {
      "image/png": {
       "width": 1,
       "height": 1
      }
     },
     "execution_count": 4
    }
   ],
   "source": [
    "## showing already ran result\n",
    "from IPython.display import Image\n",
    "Image(filename='pycaret_result.png', height =1, width =1) "
   ]
  },
  {
   "cell_type": "markdown",
   "metadata": {},
   "source": [
    "### Model selection"
   ]
  },
  {
   "cell_type": "markdown",
   "metadata": {},
   "source": [
    "### Random Forest"
   ]
  },
  {
   "cell_type": "code",
   "execution_count": 46,
   "metadata": {},
   "outputs": [],
   "source": [
    "# random search for approximate best hyperparameters\n",
    "params = {\n",
    "    'n_estimators': range(200, 1000, 50),\n",
    "    'max_depth': range(20, 100, 10),\n",
    "    'min_samples_leaf': range(2, 10, 2),\n",
    "    'min_samples_split': range(1, 5)\n",
    "}\n",
    "\n",
    "clf = RandomForestClassifier(random_state = 42)\n",
    "rdm_clf = RandomizedSearchCV(clf, n_iter = 100, verbose = 2, cv = 3,\n",
    "                             param_distributions = params, n_jobs = -1)"
   ]
  },
  {
   "cell_type": "code",
   "execution_count": 47,
   "metadata": {},
   "outputs": [
    {
     "name": "stdout",
     "output_type": "stream",
     "text": [
      "Fitting 3 folds for each of 100 candidates, totalling 300 fits\n"
     ]
    },
    {
     "name": "stderr",
     "output_type": "stream",
     "text": [
      "[Parallel(n_jobs=-1)]: Using backend LokyBackend with 16 concurrent workers.\n",
      "[Parallel(n_jobs=-1)]: Done   9 tasks      | elapsed:    4.4s\n",
      "[Parallel(n_jobs=-1)]: Done 130 tasks      | elapsed:  3.1min\n",
      "[Parallel(n_jobs=-1)]: Done 300 out of 300 | elapsed:  8.4min finished\n"
     ]
    },
    {
     "data": {
      "text/plain": [
       "RandomizedSearchCV(cv=3, estimator=RandomForestClassifier(random_state=42),\n",
       "                   n_iter=100, n_jobs=-1,\n",
       "                   param_distributions={'max_depth': range(20, 100, 10),\n",
       "                                        'min_samples_leaf': range(2, 10, 2),\n",
       "                                        'min_samples_split': range(1, 5),\n",
       "                                        'n_estimators': range(50, 1000, 50)},\n",
       "                   verbose=2)"
      ]
     },
     "execution_count": 47,
     "metadata": {},
     "output_type": "execute_result"
    }
   ],
   "source": [
    "rdm_clf.fit(X_train, y_train)"
   ]
  },
  {
   "cell_type": "code",
   "execution_count": 68,
   "metadata": {},
   "outputs": [
    {
     "data": {
      "text/html": [
       "<div>\n",
       "<style scoped>\n",
       "    .dataframe tbody tr th:only-of-type {\n",
       "        vertical-align: middle;\n",
       "    }\n",
       "\n",
       "    .dataframe tbody tr th {\n",
       "        vertical-align: top;\n",
       "    }\n",
       "\n",
       "    .dataframe thead th {\n",
       "        text-align: right;\n",
       "    }\n",
       "</style>\n",
       "<table border=\"1\" class=\"dataframe\">\n",
       "  <thead>\n",
       "    <tr style=\"text-align: right;\">\n",
       "      <th></th>\n",
       "      <th>param_n_estimators</th>\n",
       "      <th>param_min_samples_split</th>\n",
       "      <th>param_min_samples_leaf</th>\n",
       "      <th>param_max_depth</th>\n",
       "      <th>mean_test_score</th>\n",
       "      <th>std_test_score</th>\n",
       "      <th>rank_test_score</th>\n",
       "    </tr>\n",
       "  </thead>\n",
       "  <tbody>\n",
       "    <tr>\n",
       "      <th>87</th>\n",
       "      <td>900</td>\n",
       "      <td>2</td>\n",
       "      <td>2</td>\n",
       "      <td>30</td>\n",
       "      <td>0.913625</td>\n",
       "      <td>0.001394</td>\n",
       "      <td>1</td>\n",
       "    </tr>\n",
       "    <tr>\n",
       "      <th>67</th>\n",
       "      <td>800</td>\n",
       "      <td>2</td>\n",
       "      <td>2</td>\n",
       "      <td>20</td>\n",
       "      <td>0.913000</td>\n",
       "      <td>0.000546</td>\n",
       "      <td>2</td>\n",
       "    </tr>\n",
       "    <tr>\n",
       "      <th>21</th>\n",
       "      <td>850</td>\n",
       "      <td>4</td>\n",
       "      <td>2</td>\n",
       "      <td>50</td>\n",
       "      <td>0.912875</td>\n",
       "      <td>0.001290</td>\n",
       "      <td>3</td>\n",
       "    </tr>\n",
       "  </tbody>\n",
       "</table>\n",
       "</div>"
      ],
      "text/plain": [
       "   param_n_estimators param_min_samples_split param_min_samples_leaf  \\\n",
       "87                900                       2                      2   \n",
       "67                800                       2                      2   \n",
       "21                850                       4                      2   \n",
       "\n",
       "   param_max_depth  mean_test_score  std_test_score  rank_test_score  \n",
       "87              30         0.913625        0.001394                1  \n",
       "67              20         0.913000        0.000546                2  \n",
       "21              50         0.912875        0.001290                3  "
      ]
     },
     "execution_count": 68,
     "metadata": {},
     "output_type": "execute_result"
    }
   ],
   "source": [
    "rdm_results = pd.DataFrame(rdm_clf.cv_results_)\n",
    "rdm_results = rdm_results.nsmallest(3, 'rank_test_score')\n",
    "rdm_results[[\n",
    "    'param_n_estimators', 'param_min_samples_split','param_min_samples_leaf', \n",
    "    'param_max_depth', 'mean_test_score', 'std_test_score', 'rank_test_score'\n",
    "]]"
   ]
  },
  {
   "cell_type": "code",
   "execution_count": 89,
   "metadata": {},
   "outputs": [],
   "source": [
    "# grid search for fine searching hyperparameters\n",
    "params = {\n",
    "    'n_estimators': [880, 890, 900],\n",
    "    'max_depth': [23, 25, 27],\n",
    "    'min_samples_split': [2, 3],\n",
    "    'min_samples_leaf': [2, 3]\n",
    "}\n",
    "\n",
    "clf = RandomForestClassifier(random_state = 42)\n",
    "grid_clf = GridSearchCV(clf, params, cv = 3, n_jobs = -1)"
   ]
  },
  {
   "cell_type": "code",
   "execution_count": 90,
   "metadata": {},
   "outputs": [
    {
     "data": {
      "text/plain": [
       "GridSearchCV(cv=3, estimator=RandomForestClassifier(random_state=42), n_jobs=-1,\n",
       "             param_grid={'max_depth': [25, 30, 35], 'min_samples_leaf': [2],\n",
       "                         'min_samples_split': [2], 'n_estimators': [890]})"
      ]
     },
     "execution_count": 90,
     "metadata": {},
     "output_type": "execute_result"
    }
   ],
   "source": [
    "grid_clf.fit(X_train, y_train)"
   ]
  },
  {
   "cell_type": "code",
   "execution_count": 91,
   "metadata": {},
   "outputs": [
    {
     "data": {
      "text/plain": [
       "{'max_depth': 25,\n",
       " 'min_samples_leaf': 2,\n",
       " 'min_samples_split': 2,\n",
       " 'n_estimators': 890}"
      ]
     },
     "execution_count": 91,
     "metadata": {},
     "output_type": "execute_result"
    }
   ],
   "source": [
    "grid_clf.best_params_ "
   ]
  },
  {
   "cell_type": "code",
   "execution_count": 92,
   "metadata": {},
   "outputs": [
    {
     "data": {
      "text/plain": [
       "1.0"
      ]
     },
     "execution_count": 92,
     "metadata": {},
     "output_type": "execute_result"
    }
   ],
   "source": [
    "grid_clf.best_estimator_.fit(X_train, y_train)\n",
    "y_train_preds = grid_clf.best_estimator_.predict(X_train)\n",
    "train_acc = np.mean(y_train_preds == y_train)\n",
    "train_acc"
   ]
  },
  {
   "cell_type": "code",
   "execution_count": 93,
   "metadata": {},
   "outputs": [
    {
     "data": {
      "text/plain": [
       "0.927"
      ]
     },
     "execution_count": 93,
     "metadata": {},
     "output_type": "execute_result"
    }
   ],
   "source": [
    "y_val_preds = grid_clf.best_estimator_.predict(X_val)\n",
    "val_acc = np.mean(y_val_preds == y_val)\n",
    "val_acc"
   ]
  },
  {
   "cell_type": "code",
   "execution_count": 94,
   "metadata": {
    "scrolled": true
   },
   "outputs": [
    {
     "data": {
      "text/plain": [
       "(1.0, 0.9268429744613245)"
      ]
     },
     "execution_count": 94,
     "metadata": {},
     "output_type": "execute_result"
    }
   ],
   "source": [
    "val_score = f1_score(y_val, y_val_preds, average = 'macro')\n",
    "train_score = f1_score(y_train, y_train_preds, average = 'macro')\n",
    "\n",
    "train_score, val_score"
   ]
  },
  {
   "cell_type": "code",
   "execution_count": null,
   "metadata": {},
   "outputs": [],
   "source": []
  },
  {
   "cell_type": "markdown",
   "metadata": {},
   "source": [
    "### KNN"
   ]
  },
  {
   "cell_type": "code",
   "execution_count": 6,
   "metadata": {},
   "outputs": [],
   "source": [
    "# random search for approximate best hyperparameters\n",
    "params = {\n",
    "    'n_neighbors': range(2, 20),\n",
    "    'weights': ['uniform', 'distance'],\n",
    "    'p': [1, 2],\n",
    "}\n",
    "\n",
    "clf = KNeighborsClassifier(n_jobs = -1)\n",
    "rdm_clf = RandomizedSearchCV(clf, n_iter = 20, verbose = 2, cv = 3,\n",
    "                             param_distributions = params, n_jobs = -1)"
   ]
  },
  {
   "cell_type": "code",
   "execution_count": 7,
   "metadata": {
    "scrolled": true
   },
   "outputs": [
    {
     "name": "stdout",
     "output_type": "stream",
     "text": [
      "Fitting 3 folds for each of 20 candidates, totalling 60 fits\n"
     ]
    },
    {
     "name": "stderr",
     "output_type": "stream",
     "text": [
      "[Parallel(n_jobs=-1)]: Using backend LokyBackend with 16 concurrent workers.\n",
      "[Parallel(n_jobs=-1)]: Done   9 tasks      | elapsed:  1.7min\n",
      "[Parallel(n_jobs=-1)]: Done  60 out of  60 | elapsed:  7.3min remaining:    0.0s\n",
      "[Parallel(n_jobs=-1)]: Done  60 out of  60 | elapsed:  7.3min finished\n"
     ]
    },
    {
     "data": {
      "text/plain": [
       "RandomizedSearchCV(cv=3, estimator=KNeighborsClassifier(n_jobs=-1), n_iter=20,\n",
       "                   n_jobs=-1,\n",
       "                   param_distributions={'n_neighbors': range(2, 20),\n",
       "                                        'p': [1, 2],\n",
       "                                        'weights': ['uniform', 'distance']},\n",
       "                   verbose=2)"
      ]
     },
     "execution_count": 7,
     "metadata": {},
     "output_type": "execute_result"
    }
   ],
   "source": [
    "rdm_clf.fit(X_train, y_train)"
   ]
  },
  {
   "cell_type": "code",
   "execution_count": 12,
   "metadata": {},
   "outputs": [
    {
     "data": {
      "text/html": [
       "<div>\n",
       "<style scoped>\n",
       "    .dataframe tbody tr th:only-of-type {\n",
       "        vertical-align: middle;\n",
       "    }\n",
       "\n",
       "    .dataframe tbody tr th {\n",
       "        vertical-align: top;\n",
       "    }\n",
       "\n",
       "    .dataframe thead th {\n",
       "        text-align: right;\n",
       "    }\n",
       "</style>\n",
       "<table border=\"1\" class=\"dataframe\">\n",
       "  <thead>\n",
       "    <tr style=\"text-align: right;\">\n",
       "      <th></th>\n",
       "      <th>param_weights</th>\n",
       "      <th>param_p</th>\n",
       "      <th>param_n_neighbors</th>\n",
       "      <th>mean_test_score</th>\n",
       "      <th>std_test_score</th>\n",
       "      <th>rank_test_score</th>\n",
       "    </tr>\n",
       "  </thead>\n",
       "  <tbody>\n",
       "    <tr>\n",
       "      <th>7</th>\n",
       "      <td>distance</td>\n",
       "      <td>2</td>\n",
       "      <td>2</td>\n",
       "      <td>0.933000</td>\n",
       "      <td>0.001687</td>\n",
       "      <td>1</td>\n",
       "    </tr>\n",
       "    <tr>\n",
       "      <th>5</th>\n",
       "      <td>distance</td>\n",
       "      <td>1</td>\n",
       "      <td>5</td>\n",
       "      <td>0.922125</td>\n",
       "      <td>0.003234</td>\n",
       "      <td>2</td>\n",
       "    </tr>\n",
       "    <tr>\n",
       "      <th>14</th>\n",
       "      <td>uniform</td>\n",
       "      <td>2</td>\n",
       "      <td>5</td>\n",
       "      <td>0.920626</td>\n",
       "      <td>0.003359</td>\n",
       "      <td>3</td>\n",
       "    </tr>\n",
       "  </tbody>\n",
       "</table>\n",
       "</div>"
      ],
      "text/plain": [
       "   param_weights param_p param_n_neighbors  mean_test_score  std_test_score  \\\n",
       "7       distance       2                 2         0.933000        0.001687   \n",
       "5       distance       1                 5         0.922125        0.003234   \n",
       "14       uniform       2                 5         0.920626        0.003359   \n",
       "\n",
       "    rank_test_score  \n",
       "7                 1  \n",
       "5                 2  \n",
       "14                3  "
      ]
     },
     "execution_count": 12,
     "metadata": {},
     "output_type": "execute_result"
    }
   ],
   "source": [
    "rdm_results = pd.DataFrame(rdm_clf.cv_results_)\n",
    "rdm_results = rdm_results.nsmallest(3, 'rank_test_score')\n",
    "rdm_results[[\n",
    "    'param_weights', 'param_p', 'param_n_neighbors', 'mean_test_score', 'std_test_score', 'rank_test_score'\n",
    "]]"
   ]
  },
  {
   "cell_type": "code",
   "execution_count": 13,
   "metadata": {},
   "outputs": [],
   "source": [
    "# grid search for fine searching hyperparameters\n",
    "params = {\n",
    "    'n_neighbors': range(2, 6),\n",
    "    'p': [1, 2],\n",
    "    'weights': ['distance', 'uniform']\n",
    "}\n",
    "\n",
    "clf = KNeighborsClassifier(n_jobs = -1)\n",
    "grid_clf = GridSearchCV(clf, params, n_jobs = -1)"
   ]
  },
  {
   "cell_type": "code",
   "execution_count": 14,
   "metadata": {},
   "outputs": [
    {
     "data": {
      "text/plain": [
       "GridSearchCV(estimator=KNeighborsClassifier(n_jobs=-1), n_jobs=-1,\n",
       "             param_grid={'n_neighbors': range(2, 6), 'p': [1, 2],\n",
       "                         'weights': ['distance', 'uniform']})"
      ]
     },
     "execution_count": 14,
     "metadata": {},
     "output_type": "execute_result"
    }
   ],
   "source": [
    "grid_clf.fit(X_train, y_train)"
   ]
  },
  {
   "cell_type": "code",
   "execution_count": 15,
   "metadata": {},
   "outputs": [
    {
     "data": {
      "text/plain": [
       "{'n_neighbors': 2, 'p': 2, 'weights': 'distance'}"
      ]
     },
     "execution_count": 15,
     "metadata": {},
     "output_type": "execute_result"
    }
   ],
   "source": [
    "grid_clf.best_params_ # n_estimators = 300, max_depth = 24"
   ]
  },
  {
   "cell_type": "code",
   "execution_count": 16,
   "metadata": {},
   "outputs": [
    {
     "data": {
      "text/plain": [
       "1.0"
      ]
     },
     "execution_count": 16,
     "metadata": {},
     "output_type": "execute_result"
    }
   ],
   "source": [
    "grid_clf.best_estimator_.fit(X_train, y_train)\n",
    "y_train_preds = grid_clf.best_estimator_.predict(X_train)\n",
    "train_acc = np.mean(y_train_preds == y_train)\n",
    "train_acc"
   ]
  },
  {
   "cell_type": "code",
   "execution_count": 17,
   "metadata": {},
   "outputs": [
    {
     "data": {
      "text/plain": [
       "0.9515"
      ]
     },
     "execution_count": 17,
     "metadata": {},
     "output_type": "execute_result"
    }
   ],
   "source": [
    "y_val_preds = grid_clf.best_estimator_.predict(X_val)\n",
    "val_acc = np.mean(y_val_preds == y_val)\n",
    "val_acc"
   ]
  },
  {
   "cell_type": "code",
   "execution_count": 18,
   "metadata": {},
   "outputs": [
    {
     "data": {
      "text/plain": [
       "(1.0, 0.9510223852243824)"
      ]
     },
     "execution_count": 18,
     "metadata": {},
     "output_type": "execute_result"
    }
   ],
   "source": [
    "val_score = f1_score(y_val, y_val_preds, average = 'macro')\n",
    "train_score = f1_score(y_train, y_train_preds, average = 'macro')\n",
    "\n",
    "train_score, val_score"
   ]
  },
  {
   "cell_type": "code",
   "execution_count": null,
   "metadata": {},
   "outputs": [],
   "source": []
  },
  {
   "cell_type": "markdown",
   "metadata": {},
   "source": [
    "### SVC"
   ]
  },
  {
   "cell_type": "code",
   "execution_count": 5,
   "metadata": {},
   "outputs": [],
   "source": [
    "# random search for approximate best hyperparameters\n",
    "params = {\n",
    "    'degree': range(1, 7),\n",
    "    'C': loguniform(1e-1, 1e3),\n",
    "    'gamma': loguniform(1e-2, 1e3),\n",
    "    'kernel': ['linear', 'rbf', 'poly'],\n",
    "}\n",
    "\n",
    "clf = SVC()\n",
    "rdm_clf = RandomizedSearchCV(clf, n_iter = 20, verbose = 2, cv = 3,\n",
    "                             param_distributions = params, n_jobs = -1)"
   ]
  },
  {
   "cell_type": "code",
   "execution_count": null,
   "metadata": {
    "scrolled": false
   },
   "outputs": [
    {
     "name": "stdout",
     "output_type": "stream",
     "text": [
      "Fitting 3 folds for each of 20 candidates, totalling 60 fits\n"
     ]
    },
    {
     "name": "stderr",
     "output_type": "stream",
     "text": [
      "[Parallel(n_jobs=-1)]: Using backend LokyBackend with 16 concurrent workers.\n",
      "[Parallel(n_jobs=-1)]: Done   9 tasks      | elapsed:  2.1min\n"
     ]
    }
   ],
   "source": [
    "rdm_clf.fit(X_train, y_train)"
   ]
  },
  {
   "cell_type": "code",
   "execution_count": null,
   "metadata": {},
   "outputs": [],
   "source": [
    "rdm_results = pd.DataFrame(rdm_clf.cv_results_)\n",
    "rdm_results = rdm_results.nsmallest(3, 'rank_test_score')\n",
    "rdm_results[[\n",
    "    'param_kernel', 'param_gamma', 'param_C', 'param_degree','mean_test_score', 'std_test_score', 'rank_test_score'\n",
    "]]"
   ]
  },
  {
   "cell_type": "code",
   "execution_count": 93,
   "metadata": {},
   "outputs": [],
   "source": [
    "# grid search for fine searching hyperparameters\n",
    "params = {\n",
    "    'C': [5, 10, 15],\n",
    "    'kernel': ['poly'],\n",
    "    'gamma': [5, 10, 15],\n",
    "    'degree': [2, 3]\n",
    "}\n",
    "\n",
    "clf = SVC()\n",
    "grid_clf = GridSearchCV(clf, params, n_jobs = -1)"
   ]
  },
  {
   "cell_type": "code",
   "execution_count": 94,
   "metadata": {},
   "outputs": [
    {
     "data": {
      "text/plain": [
       "GridSearchCV(estimator=SVC(), n_jobs=-1,\n",
       "             param_grid={'C': [10], 'degree': [2], 'gamma': [10],\n",
       "                         'kernel': ['poly']})"
      ]
     },
     "execution_count": 94,
     "metadata": {},
     "output_type": "execute_result"
    }
   ],
   "source": [
    "grid_clf.fit(X_train, y_train)"
   ]
  },
  {
   "cell_type": "code",
   "execution_count": 95,
   "metadata": {},
   "outputs": [
    {
     "data": {
      "text/plain": [
       "{'C': 10, 'degree': 2, 'gamma': 10, 'kernel': 'poly'}"
      ]
     },
     "execution_count": 95,
     "metadata": {},
     "output_type": "execute_result"
    }
   ],
   "source": [
    "grid_clf.best_params_"
   ]
  },
  {
   "cell_type": "code",
   "execution_count": 96,
   "metadata": {},
   "outputs": [
    {
     "data": {
      "text/plain": [
       "1.0"
      ]
     },
     "execution_count": 96,
     "metadata": {},
     "output_type": "execute_result"
    }
   ],
   "source": [
    "grid_clf.best_estimator_.fit(X_train, y_train)\n",
    "y_train_preds = grid_clf.best_estimator_.predict(X_train)\n",
    "train_acc = np.mean(y_train_preds == y_train)\n",
    "train_acc"
   ]
  },
  {
   "cell_type": "code",
   "execution_count": 97,
   "metadata": {},
   "outputs": [
    {
     "data": {
      "text/plain": [
       "0.9575"
      ]
     },
     "execution_count": 97,
     "metadata": {},
     "output_type": "execute_result"
    }
   ],
   "source": [
    "y_val_preds = grid_clf.best_estimator_.predict(X_val)\n",
    "val_acc = np.mean(y_val_preds == y_val)\n",
    "val_acc"
   ]
  },
  {
   "cell_type": "code",
   "execution_count": 98,
   "metadata": {},
   "outputs": [
    {
     "data": {
      "text/plain": [
       "(1.0, 0.9571816038828802)"
      ]
     },
     "execution_count": 98,
     "metadata": {},
     "output_type": "execute_result"
    }
   ],
   "source": [
    "val_score = f1_score(y_val, y_val_preds, average = 'macro')\n",
    "train_score = f1_score(y_train, y_train_preds, average = 'macro')\n",
    "\n",
    "train_score, val_score"
   ]
  },
  {
   "cell_type": "code",
   "execution_count": null,
   "metadata": {},
   "outputs": [],
   "source": []
  },
  {
   "cell_type": "markdown",
   "metadata": {},
   "source": [
    "### Voting model - evaluation"
   ]
  },
  {
   "cell_type": "code",
   "execution_count": 15,
   "metadata": {},
   "outputs": [],
   "source": [
    "def voting(rf, knn, svm, data):\n",
    "    \"\"\"\n",
    "    majority vote classifier (knn decides in ties)\n",
    "    inputs  = trained RF, KNN, SVM models, dataset (dataframe/numpy) \n",
    "    output  = predicted labels (0-9) in a list\n",
    "    \"\"\"\n",
    "    d = pd.DataFrame()\n",
    "    d['rf']  = rf.predict(data)\n",
    "    d['knn'] = knn.predict(data)\n",
    "    d['svm'] = svm.predict(data)\n",
    "    \n",
    "    votedPred = []\n",
    "    for i in range(len(d)):\n",
    "        row = d.iloc[i]\n",
    "        count = mode(row).count[0] \n",
    "        if count == 1:\n",
    "            votedPred.append(row['knn'])\n",
    "        else:\n",
    "            votedPred.append(mode(row)[0][0])\n",
    "            \n",
    "    return votedPred"
   ]
  },
  {
   "cell_type": "markdown",
   "metadata": {},
   "source": [
    "### Data Augmentation"
   ]
  },
  {
   "cell_type": "code",
   "execution_count": 33,
   "metadata": {},
   "outputs": [],
   "source": [
    "def shift_image(image, dx, dy):\n",
    "    \"\"\"\n",
    "    right-shifts the image by dx pixels and upshifts by dy pixels\n",
    "    inputs  = image numpy matrix, dx (int), dy (int)\n",
    "    output  = shifted image numpy matrix \n",
    "    \"\"\"\n",
    "    image = image.reshape((28, 28))\n",
    "    shifted_image = shift(image, [dy, dx], cval = 0, mode=\"constant\")\n",
    "    return shifted_image.reshape([-1])"
   ]
  },
  {
   "cell_type": "code",
   "execution_count": 44,
   "metadata": {
    "scrolled": false
   },
   "outputs": [],
   "source": [
    "x = np.array(x)\n",
    "y = np.array(y)\n",
    "\n",
    "X_augmented = []\n",
    "y_augmented = []\n",
    "\n",
    "# shifting by 1 pixel in all 4 directions\n",
    "for i in range(x.shape[0]):\n",
    "    for dx, dy in [(-1, 0), (1, 0), (0, 1), (0, -1)]: \n",
    "        X_augmented.append(shift_image(x[i, :], dx, dy))\n",
    "        y_augmented.append(y[i])"
   ]
  },
  {
   "cell_type": "code",
   "execution_count": 35,
   "metadata": {},
   "outputs": [],
   "source": [
    "X_augmented = np.array(X_augmented)\n",
    "y_augmented = np.array(y_augmented)"
   ]
  },
  {
   "cell_type": "markdown",
   "metadata": {},
   "source": [
    "### Train models on Augmented data"
   ]
  },
  {
   "cell_type": "code",
   "execution_count": 36,
   "metadata": {},
   "outputs": [
    {
     "data": {
      "text/plain": [
       "SVC(C=10, degree=2, gamma=10, kernel='poly')"
      ]
     },
     "execution_count": 36,
     "metadata": {},
     "output_type": "execute_result"
    }
   ],
   "source": [
    "svm = SVC(C = 10, degree = 2, gamma = 10, kernel = 'poly')\n",
    "svm.fit(X_augmented, y_augmented)"
   ]
  },
  {
   "cell_type": "code",
   "execution_count": 37,
   "metadata": {},
   "outputs": [
    {
     "data": {
      "text/plain": [
       "RandomForestClassifier(max_depth=25, min_samples_leaf=2, n_estimators=890)"
      ]
     },
     "execution_count": 37,
     "metadata": {},
     "output_type": "execute_result"
    }
   ],
   "source": [
    "rf = RandomForestClassifier(max_depth = 25, min_samples_leaf = 2, min_samples_split = 2, n_estimators = 890)\n",
    "rf.fit(X_augmented, y_augmented)"
   ]
  },
  {
   "cell_type": "code",
   "execution_count": 38,
   "metadata": {
    "scrolled": true
   },
   "outputs": [
    {
     "data": {
      "text/plain": [
       "KNeighborsClassifier(n_neighbors=2, weights='distance')"
      ]
     },
     "execution_count": 38,
     "metadata": {},
     "output_type": "execute_result"
    }
   ],
   "source": [
    "knn = KNeighborsClassifier(n_neighbors = 2, p = 2, weights = 'distance')\n",
    "knn.fit(X_augmented, y_augmented)"
   ]
  },
  {
   "cell_type": "code",
   "execution_count": 47,
   "metadata": {},
   "outputs": [],
   "source": [
    "votedPred = voting(rf, knn, svm, test)"
   ]
  },
  {
   "cell_type": "code",
   "execution_count": 43,
   "metadata": {},
   "outputs": [],
   "source": [
    "# for kaggle submission\n",
    "sub = pd.read_csv('pred.csv')\n",
    "sub['Expected'] = votedPred\n",
    "sub.to_csv('pred.csv', index = False)"
   ]
  },
  {
   "cell_type": "raw",
   "metadata": {},
   "source": [
    "import pickle\n",
    "filename = 'svm.pickle'\n",
    "pickle.dump(svm, open(filename, 'wb'))\n",
    "\n",
    "filename = 'rf.pickle'\n",
    "pickle.dump(rf, open(filename, 'wb'))\n",
    "\n",
    "filename = 'knn.pickle'\n",
    "pickle.dump(knn, open(filename, 'wb'))"
   ]
  },
  {
   "source": [
    "### Required Function "
   ],
   "cell_type": "markdown",
   "metadata": {}
  },
  {
   "cell_type": "code",
   "execution_count": 20,
   "metadata": {},
   "outputs": [],
   "source": [
    "import pickle\n",
    "\n",
    "def predict_private_dataset(location):\n",
    "    \"\"\"\n",
    "    give predictions on private test set\n",
    "    input  = file location of models and data (string)\n",
    "    output = predicted labels (numpy array) \n",
    "    \n",
    "    Note: Keep pickle files and csv file at this location\n",
    "    \"\"\"\n",
    "    data = pd.read_csv(location + '/private_test.csv')/255  #min max scaling\n",
    "\n",
    "    # print(data.head())\n",
    "    ## opening 3 models\n",
    "    file = open(location + '/rf.pickle', 'rb')\n",
    "    rf = pickle.load(file)\n",
    "\n",
    "    file = open(location + '/knn.pickle', 'rb')\n",
    "    knn = pickle.load(file)\n",
    "\n",
    "    file = open(location + '/svm.pickle', 'rb')\n",
    "    svm = pickle.load(file) \n",
    "\n",
    "    predicted_class = voting(rf, knn, svm, data)\n",
    "    # If data frame is required comment out the below codes \n",
    "    # sub = pd.Dataframe()\n",
    "    # id_ = []\n",
    "    # for i in range(len(data)):\n",
    "    #     id_.append('Sample_'+ str(i+1))\n",
    "    # sub['Id'] = id_\n",
    "    # sub['Expected'] = predicted_class\n",
    "    # return sub\n",
    "    return np.array(predicted_class)"
   ]
  },
  {
   "cell_type": "code",
   "execution_count": null,
   "metadata": {},
   "outputs": [],
   "source": []
  }
 ],
 "metadata": {
  "kernelspec": {
   "name": "Python 3.7.6 64-bit ('ml': conda)",
   "display_name": "Python 3.7.6 64-bit ('ml': conda)",
   "metadata": {
    "interpreter": {
     "hash": "51d9de30a18d4378b550ff45d4e1cb65b69438ddcea602617c4e28c8b2d04d74"
    }
   }
  },
  "language_info": {
   "codemirror_mode": {
    "name": "ipython",
    "version": 3
   },
   "file_extension": ".py",
   "mimetype": "text/x-python",
   "name": "python",
   "nbconvert_exporter": "python",
   "pygments_lexer": "ipython3",
   "version": "3.7.6-final"
  }
 },
 "nbformat": 4,
 "nbformat_minor": 2
}